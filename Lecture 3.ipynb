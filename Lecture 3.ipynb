{
 "cells": [
  {
   "cell_type": "markdown",
   "metadata": {},
   "source": [
    "# Lecture 3 "
   ]
  },
  {
   "cell_type": "markdown",
   "metadata": {},
   "source": [
    "* CPU instructions are stored in the memory\n",
    "* CPU access/load memory by address\n",
    "* Data comes from and into memory \n",
    "* More complex instructions save space in memory, but increases CPI (tradeoff in CPU)"
   ]
  },
  {
   "cell_type": "markdown",
   "metadata": {},
   "source": [
    "__Complex Instruction Set Computer__: \n",
    "* more instruction types in ISA, more complex (i.e. ADDTMULT as combination of MULT and ADD)\n",
    "* less instructions in memory \n",
    "__Reduced Instruction Set Computer__: less instruction types\n",
    "* Less instruction types in ISA\n",
    "* More instructions in memory \n",
    "More memory, and people begin to use RISC more and more <br> \n",
    "__CISC drawbacks__: More instruction types in ISA adds complexity to the hardware (since hardware has to implement the instructions). Cycle time could increase, or CPI would increase too. Validation and design time becomes harder for hardware too. It could also cost more for silicon design. "
   ]
  },
  {
   "cell_type": "markdown",
   "metadata": {},
   "source": [
    "_IF_: Instruction fetching, fetch instruction from memory to CPI <br>\n",
    "_ID_: Instruction Decoding, determine what the instruciton is <br> \n",
    "__Variable Length Instructions__: different bytes for different instructions. Tradeoff is that you could potentially save more space for instructinos that take less memory, but this adds complexity for instruction fetch and decoding.\n",
    "__Fixed Length Instructions__: Every instruction takes the same length. It is easier to fetch and decode, could take more memory (not a great issue in today's computer). "
   ]
  },
  {
   "cell_type": "markdown",
   "metadata": {},
   "source": [
    "Tradeoff in memory and CPU access: \n",
    "* Some ISA can access both, i.e. M+R => R (x86) (__Register Memory Machine__). This could take fewer instruction counts for one operation, but that could make machine more complex, and increased cycle time; could also increase CPI due to more complex instruction decoding. (quicker clock could also increase CPI)\n",
    "* RISC: ADD can only add registers, so first has to load from memory and store result to memory. (__Load and Store Architecture)__. This can take more instruction counts for one instruction. "
   ]
  },
  {
   "cell_type": "markdown",
   "metadata": {},
   "source": [
    "_APP, OS, COMPILER_ => CPI, IC <br>\n",
    "_ISA_ =>  IC, CPI, CT <br>\n",
    "_uArch_ => CT, CPI <br> \n"
   ]
  },
  {
   "cell_type": "markdown",
   "metadata": {},
   "source": [
    "__Rewind: x86__: \n",
    "\n",
    "* __Notation__: \n",
    "R[R6] means from register R6;\n",
    "I means immediate value from register. \n",
    "IMM : immediate values, comes from instruction itself \n",
    "ADDI : R[RT] = R[Rs] + IMM\n"
   ]
  },
  {
   "cell_type": "markdown",
   "metadata": {},
   "source": [
    "__MIPS__:\n",
    "* 32 Registers \n",
    "* 3 instruction types (_R, I, J_)\n",
    "* Fixed Length instruction (32 bits)"
   ]
  },
  {
   "cell_type": "markdown",
   "metadata": {},
   "source": [
    "![inst](inst.gif)"
   ]
  },
  {
   "cell_type": "markdown",
   "metadata": {},
   "source": [
    "__Syntax__:\n",
    "__R type__: \n",
    "$$ R[rd] = R[rs] \\text{ funct } R[rt] $$\n",
    "__ADDI__: \n",
    "$$ R[rt] = R[rs] + SE(imm) $$"
   ]
  },
  {
   "cell_type": "markdown",
   "metadata": {},
   "source": [
    "__LW__: \n",
    "$$R[rt] = M[R[rs] + SE[imm] $$\n",
    "__SW__:\n",
    "$$M[R[rs] + SE[imm]] = R[rt]$$"
   ]
  },
  {
   "cell_type": "markdown",
   "metadata": {},
   "source": [
    "Memory in MIPS are at byte granularity. \n",
    "Program Counter (PC) are 32 bits, and load and store memory access has byte granularity, so the lower two bits are reserved to be zero. For 4 locations: 00, 01, 10, 11.  "
   ]
  },
  {
   "cell_type": "markdown",
   "metadata": {},
   "source": [
    "__BEQ__ (I type instruction):\n",
    "```\n",
    "if (R[rs] == R[rt])\n",
    "    //sign extended and shift left 2 bits, add 00\n",
    "    PC = PC + 4 + SES(I)  \n",
    "else \n",
    "    //do instruction\n",
    "    PC = PC + 4\n",
    "    \n",
    "``` "
   ]
  },
  {
   "cell_type": "markdown",
   "metadata": {},
   "source": [
    "__JUMP__ (J type)\n",
    "we know that lower two bits of PC are zeros, and remaining 30 bits. J type needs to make the lower 26 bits into 30 bits. \n",
    "![jmp](jmp.jpg)"
   ]
  },
  {
   "cell_type": "code",
   "execution_count": null,
   "metadata": {
    "collapsed": true
   },
   "outputs": [],
   "source": []
  }
 ],
 "metadata": {
  "kernelspec": {
   "display_name": "Python [default]",
   "language": "python",
   "name": "python2"
  },
  "language_info": {
   "codemirror_mode": {
    "name": "ipython",
    "version": 2
   },
   "file_extension": ".py",
   "mimetype": "text/x-python",
   "name": "python",
   "nbconvert_exporter": "python",
   "pygments_lexer": "ipython2",
   "version": "2.7.13"
  }
 },
 "nbformat": 4,
 "nbformat_minor": 2
}

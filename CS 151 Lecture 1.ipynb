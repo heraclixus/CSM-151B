{
 "cells": [
  {
   "cell_type": "markdown",
   "metadata": {},
   "source": [
    " # Lecture 1"
   ]
  },
  {
   "cell_type": "markdown",
   "metadata": {},
   "source": [
    "## Intro\n",
    "HUGE portion midterm and finals: 90% total. Video, Lecture, Textbook. <br>\n",
    "__Instruction Set Architecture__: middle interface between hardware and software (x86)<br> \n",
    "\n",
    "__Scaling chanllenge__: the exponential improvement of computing power slows down. _power_ is a huge issue, restriction set by physical threshold (voltage and heat problem) from full performance to energy efficient performance.  <br> \n",
    "\n",
    "__4 v's of Big Data__: \n",
    "* volumne: scale of data\n",
    "* velocity: analysis of streaming data (trade, sensor, IoT) \n",
    "* veracity: uncertainty of data \n",
    "* variety: different formats of data \n",
    "\n",
    "__performance__: \n",
    "$$ ET = Instruction Count \\times CyclesPerInstruction \\times CyleTime$$\n",
    "* Algorithm: determines number of operations executed. Affect IC\n",
    "* Programming language, compiler, architecture: determine number of machine instructions per operation \n",
    "* Processor and Memory system : determine how fast instructions are executed\n",
    "* I/O systems: Determine speed of I/O operations \n",
    "\n",
    "__pipelining, paralelism__:\n",
    "* pipelining is to use resource to work on different parts and in the end use all the results to serialize (tasks already done when required by the schedule)\n",
    "* paralelism is to do multiple independent works at the same time \n",
    "\n",
    "__Memory Hierarchy__:\n",
    "Large but slow memory and small but fast (physical memory HDD and RAM for example). \n",
    "\n",
    "__Meltdown and Spectre__:\n",
    "an example of tradeoffs between speed and security.\n",
    "\n",
    "__Layering__: \n",
    "* Application software \n",
    "* System software: Compiler (translate), OS (I/O, memory and storage management, scheudling, resource sharing) \n",
    "* Hardware: processor, memory, I/O controllers.\n",
    "\n",
    "__Levels of program code__:\n",
    "* __High level__: abstraction for portability and productivity \n",
    "* __Assembly Language__: text representation of instructions \n",
    "* __Hardware Representation__: binary digits, encoded instructions and data.\n",
    "\n",
    "\n",
    "__MIPS__: RISC assembly language, focusing on R-type, LW, SW, BEQ, J. \n",
    "\n",
    "__Memory Hierarchy__: \n",
    "* Main or primary memory: used to hold programs while they are running, typically consists of DRAM \n",
    "* Secondary Memory: nonvolatile memory used to store programs and data between runs, typically consists of flash memory and magnetic disks (hard disk). hard disks usually have relative long access time (5-20 miniseconds)\n",
    "* Flash memory: non-volatile semi-conductor memory. Cheaper and slower than DRAM but more expensive per bit and faster than magnetic disks. \n",
    "\n",
    "__Transistor__ is an on/off switch controlled by electric signal."
   ]
  },
  {
   "cell_type": "markdown",
   "metadata": {},
   "source": [
    "## Components \n",
    "Same components for all kinds of computer:\n",
    "* Input/Output includes:\n",
    "    * User Interface Devices (display, keyboard, mouse)\n",
    "    * Storage Devices (Hard disk, CD/DVD, flash)\n",
    "    * Network Adapters \n",
    "* Processor (CPU):\n",
    "    * Datapath: performs operations on data\n",
    "    * Control: sequence datapath, memory\n",
    "    * Cache Memory: small fast SRAM memory for immediate access to data \n",
    "    * Core size determination: energy/performance tradeoff.\n",
    "    \n",
    "### Abstraction:\n",
    "* Abstraction helps deal with complexity (it hides lower level details)\n",
    "* ISA (Instruction Set Architecture): the hardware/software interface \n",
    "* Application Binary Interface: ISA plus system software interface \n",
    "* Implementation: the details underlying and interface\n",
    "\n",
    "### Cost:\n",
    "$$ CostPerDie = \\frac{Cost Per Wafer}{Dies Per Wafer \\times Yeild}$$\n",
    "<br>\n",
    "$$ Dies Per Wafer \\approx \\frac{Wafer Area}{Die Area} $$ \n",
    "<br>\n",
    "$$ Yield = \\frac{1}{1+(Defects Per Area \\times Die Area/2)^2}$$\n",
    "Nonlinear relation to area and defect rate: \n",
    "* Wafer cost and area are fixed\n",
    "* Defect rate determined by manufacturing process\n",
    "* Die area determined by architecture and circuit design. "
   ]
  },
  {
   "cell_type": "markdown",
   "metadata": {
    "collapsed": true
   },
   "source": [
    "## Performance:"
   ]
  },
  {
   "cell_type": "markdown",
   "metadata": {},
   "source": [
    "## Metrics\n",
    "* __Response Time__: or __execution time__, the time it takes for the computer to complete a task. (More for PC users)\n",
    "* __Throughput__: total work done per unit time (tasks/transaction per hour) (more for data centers) \n",
    "For a computer X, we have: \n",
    "$$ Performance_X = \\frac{1}{Execution Time_X}    $$\n",
    "X is n times as fast as Y is equivalently:\n",
    "$$ \\frac{Performance_X}{Performance_Y} = n$$\n",
    "\n",
    "__CPU exeuction Time__ or __CPU time__ is the actual time the CPU spends computing for a specific taks, does not contain the waiting time for I/O or running other programs. (User experience both of them as response time)\n",
    "__user CPU time__: the CPU time spent in an program itself. \n",
    "__system CPU time__: the CPU time spent in the OS performing tasks on behalf of the program. \n",
    "__system performance__: the performance of elapsed CPU time \n",
    "__CPU performance__: the performance based on CPU time. \n",
    "\n",
    "__clock cycle__ is the unit for one clock period, usually of the processor clock, which runs at a constant rate. __clock speed__ of 4GHz means 4,000,000,000 cycles per second. \n",
    "__cycle period__ is the length of each clock cycle. unit is _s_.\n",
    "\n",
    "$$\\text{CPU time}_A = \\text{CPU clock cycles for a program} \\times \\text{Clock cycle time} $$ <br>\n",
    "$$\\text{CPU execution time for a program} = \\frac{\\text{CPU clock cycle for a program}}{\\text{Clock rate}}  $$ <br> \n",
    "$$\\text{CPU clock cycles} = \\text{Instruction for a program} \\times \\text{Average clock cycles for instruction}$$\n",
    "__clock cycles per instruction (CPI)__ is the average number of clock cycles per instruction for a program or program fragment.\n",
    "$$CPI = \\frac{\\text{Total cycles of a program}}{\\text{total number of instructions}} $$ <br>\n",
    "$$\\text{CPU time} = \\frac{\\text{Instruction Count} \\times CPI}{\\text{Clock Rate}}$$\n",
    "\n",
    "\n",
    "\n",
    "| Components    | Affect what?  | How  |\n",
    "| ------------- |:-------------:| -----:|\n",
    "| Algorithm     | Instruction count, CPI possibly |it defines the instructions and their counts for a program |\n",
    "| Programming Language | IC, CPI  | statements in programming languages are translated into different instructions|\n",
    "| Compiler | IC, CPI     | Also determines the instruction type and count for a program|\n",
    "| ISA | IC, CPI, clock rate | it affects all the three factors | \n",
    "\n",
    "__Energy Comsumption__:\n",
    "$$Energy \\propto \\text{Capacitative Load} \\times Voltage^2  $$ <br>\n",
    "$$E \\propto \\frac{1}{2} \\times C \\times V^2  $$ <br>\n",
    "$$P \\propto \\frac{1}{2} \\times C \\times V^2 \\times f$$\n"
   ]
  },
  {
   "cell_type": "markdown",
   "metadata": {
    "collapsed": true
   },
   "source": [
    "__Multiprocessing__: Multicore microprocessors (more cores per chip)\n",
    "* Require explicit parallel programming \n",
    "    * compare with instruction level parallelism (hardware executes parallelism)\n",
    "* Hard to program (performance, load balancing, optimizing communication and synchronization)\n",
    "\n",
    "__SPEC CPU Benchmark__:\n",
    " * Program use to measure performance \n",
    " * Standard Evaluation Crop (SPEC) \n",
    " * SPEC CPU 2006: \n",
    "\n",
    "__Pitfall: Amdahl's Law__: \n",
    " * Improving an aspect of a computer and expecting a proportional improvement in overall performance.\n",
    "   $$T_{improved} = \\frac{T_{affected}}{\\text{improvement t factor}} + T_{unaffected}$$"
   ]
  },
  {
   "cell_type": "code",
   "execution_count": null,
   "metadata": {
    "collapsed": true
   },
   "outputs": [],
   "source": []
  }
 ],
 "metadata": {
  "kernelspec": {
   "display_name": "Python [default]",
   "language": "python",
   "name": "python2"
  },
  "language_info": {
   "codemirror_mode": {
    "name": "ipython",
    "version": 2
   },
   "file_extension": ".py",
   "mimetype": "text/x-python",
   "name": "python",
   "nbconvert_exporter": "python",
   "pygments_lexer": "ipython2",
   "version": "2.7.13"
  }
 },
 "nbformat": 4,
 "nbformat_minor": 2
}

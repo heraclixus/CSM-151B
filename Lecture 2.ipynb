{
 "cells": [
  {
   "cell_type": "markdown",
   "metadata": {},
   "source": [
    "# Lecture 2\n",
    "\n",
    "### ISA \n",
    "the ISA is the interface between Application and Microarchitecture, containing instructions, registers\n",
    "When two machines implement the same ISA, they don't need to have the same organization (RAM, for example).\n",
    "* ISA defines the interface, but the implementation is flexible and hardware specific. \n",
    "* To feed an Application (C++ source) into different ISAs, the compilation process will be different.\n",
    "* Instruction count is dynamic (does not based on static instructions in memory from compiler) \n",
    "* Instruction count does not directly relate to performance. (more CPU cycles for a more complex instruction)\n",
    "#### Cycle Time\n",
    "A processor clock is a mechanism of synchronization between different processors. __cycle time__ is the inverse of the clock. For 1 GHz clock, cycle time would be 1ns. \n",
    "* clock time defines the time it takes to get one instruction done (more complex instruction in single datapath requires more clock time)\n",
    "* __clock granularity__: n times faster clock does not indicate n times less time. Processor needs to break the task into smaller subtasks to accomplish this goal (this takes effort). \n",
    "#### CPI (Cycles per Instruction)\n",
    "1 CPI: a single cycle datapath, every instruction takes one cycle. <br>\n",
    "example: R type instruction takes 40% of instructions and takes 3 cylces, LW type 4 cycles and 30%, SW 3 cycles and 10%, and BEQ 2 cycles and 20%. The CPI is the weighted sum of these values, resulting in 3.1 <br>\n",
    "CPI is defined by both application and the microarchitecture implementation. \n",
    "\n",
    "|  different? |     IC   |   CPI  |     CT  |\n",
    "|------|:---------|:-------|:--------|\n",
    "| 2 APPS same architecture | Y | Y | N| \n",
    "|1 APP different compiler same architecture | Y | Y | N | \n",
    "| Same Application Same compiler, same ISA, different architecture | N | Y | Y |"
   ]
  },
  {
   "cell_type": "markdown",
   "metadata": {},
   "source": []
  }
 ],
 "metadata": {
  "kernelspec": {
   "display_name": "Python [default]",
   "language": "python",
   "name": "python2"
  },
  "language_info": {
   "codemirror_mode": {
    "name": "ipython",
    "version": 2
   },
   "file_extension": ".py",
   "mimetype": "text/x-python",
   "name": "python",
   "nbconvert_exporter": "python",
   "pygments_lexer": "ipython2",
   "version": "2.7.13"
  }
 },
 "nbformat": 4,
 "nbformat_minor": 2
}

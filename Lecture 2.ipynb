{
 "cells": [
  {
   "cell_type": "markdown",
   "metadata": {},
   "source": [
    "# Lecture 2\n",
    "\n",
    "### ISA \n",
    "the ISA is the interface between Application and Microarchitecture, containing instructions, registers\n",
    "When two machines implement the same ISA, they don't need to have the same organization (RAM, for example).\n",
    "* ISA defines the interface, but the implementation is flexible and hardware specific. \n",
    "* To feed an Application (C++ source) into different ISAs, the compilation process will be different.\n",
    "* Instruction count is dynamic (does not based on static instructions in memory from compiler) \n",
    "* Instruction count does not directly relate to performance. (more CPU cycles for a more complex instruction)\n",
    "#### Cycle Time\n",
    "A processor clock is a mechanism of synchronization between different processors. __cycle time__ is the inverse of the clock. For 1 GHz clock, cycle time would be 1ns. \n",
    "* clock time defines the time it takes to get one instruction done (more complex instruction in single datapath requires more clock time)\n",
    "* __clock granularity__: n times faster clock does not indicate n times less time. Processor needs to break the task into smaller subtasks to accomplish this goal (this takes effort). \n",
    "#### CPI (Cycles per Instruction)\n",
    "1 CPI: a single cycle datapath, every instruction takes one cycle. <br>\n",
    "example: R type instruction takes 40% of instructions and takes 3 cylces, LW type 4 cycles and 30%, SW 3 cycles and 10%, and BEQ 2 cycles and 20%. The CPI is the weighted sum of these values, resulting in 3.1 <br>\n",
    "CPI is defined by both application and the microarchitecture implementation. \n",
    "\n",
    "|  different? |     IC   |   CPI  |     CT  |\n",
    "|------|:---------|:-------|:--------|\n",
    "| 2 APPS same architecture | Y | Y | N| \n",
    "|1 APP different compiler same architecture | Y | Y | N | \n",
    "| Same Application Same compiler, same ISA, different architecture | N | Y | Y |"
   ]
  },
  {
   "cell_type": "markdown",
   "metadata": {},
   "source": [
    "Based on the previous example's scenario, let's say also that 50% of LW instructions have ADD as its preceder. And so ISA comes up with instruction LAW that combines both, and it takes 5 cycles. <br>\n",
    "$$ET_{new} = IC_N \\times CPI_N \\times CT $$ "
   ]
  },
  {
   "cell_type": "markdown",
   "metadata": {},
   "source": [
    "__IC__: From the old architecture, we have converted 15% of LW into LAW, and this will also reduce R type instructions to 25%. SW and BEQ stay the same, so the total Instruction count is only 85% of the previous IC count. <br>\n",
    "\n",
    "__CPI__: on the new scale, the ratios should be: \n",
    "* R type: 0.25/0.85 = 0.294\n",
    "* LW type: 0.15/0.85 = 0.176\n",
    "* LAW type: 0.176\n",
    "* BEQ type: 0.2/0.85 = 0.235 \n",
    "* SW type: 0.3/0.85  = 0.353\n",
    "The weighted sum is: 0.176 * 5 + 0.176 * 4 + 0.294 * 3 + 0.353 * 3 + 0.235 * 2 = 3.995 <br>\n",
    "\n",
    "__CT__: change the Cycle time of the previous example. reduce the R type from 3 cycles to 2 cycles, but the cycle time now has a 10% increase. <br> \n",
    "IC will be fixed, CPI will be different: it will be 3.1-0.4 = 2.7, so a percentange change is 0.4/3.1 = 0.129 increase. This makes total change in ratio = 0.87 * 1.1 = 0.957"
   ]
  },
  {
   "cell_type": "markdown",
   "metadata": {},
   "source": []
  },
  {
   "cell_type": "code",
   "execution_count": null,
   "metadata": {
    "collapsed": true
   },
   "outputs": [],
   "source": []
  }
 ],
 "metadata": {
  "kernelspec": {
   "display_name": "Python [default]",
   "language": "python",
   "name": "python2"
  },
  "language_info": {
   "codemirror_mode": {
    "name": "ipython",
    "version": 2
   },
   "file_extension": ".py",
   "mimetype": "text/x-python",
   "name": "python",
   "nbconvert_exporter": "python",
   "pygments_lexer": "ipython2",
   "version": "2.7.13"
  }
 },
 "nbformat": 4,
 "nbformat_minor": 2
}

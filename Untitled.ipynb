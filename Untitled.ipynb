{
 "cells": [
  {
   "cell_type": "markdown",
   "metadata": {},
   "source": [
    "# Homework 1 \n",
    "## Name: Zeyuan Xu\n",
    "## ID: 004255573\n",
    "\n",
    "### 1.5 \n",
    "__(a)__: instruction per second = total cycles per second / CPI. Here, total cycles per second = clock speed  \n",
    "* For P1, $$ Speed = \\frac{3 \\times 10^9}{1.5} = 2\\times 10^9$$ \n",
    "* For P2, $$ Speed = \\frac{2.5 \\times 10^9}{1} = 2.5 \\times 10^9 $$\n",
    "* For P3, $$ Speed = \\frac{4 \\times 10^9}{2.2} = 1.8 \\times 10^9 $$\n",
    "This results in: $$P2 > P1 > P3$$\n",
    "\n",
    "__(b)__: total cycles (__TC__) = clock speed * time; total instruction (__TI__) = total cycles / CPI. \n",
    "* For P1, $$TC = 3 \\times 10^9 \\times 10 = 3 \\times 10^{10}; TI = \\frac{TC}{2} = 2 \\times 10^{10} $$\n",
    "* For P2, $$TC = 2.5 \\times 10^{10}; TI = 2.5 \\times 10^{10} $$\n",
    "* For P3, $$TC = 4 \\times 10^{10}; TI = 1.8 \\times 10^{10} $$ \n",
    "\n",
    "__(c)__: For the same amount of instructions, now CPI increases by 20%, so total cycle number increases by 20%. Since clock rate = total cycle number / execution time. We have that by ratio only, clock has to be 1.2/0.7 = 1.71 times as fast as before. "
   ]
  },
  {
   "cell_type": "markdown",
   "metadata": {},
   "source": [
    "### 1.6 \n",
    "|Implemenation | A | B | C | D | Clock Rate |  \n",
    "|--------------|:--|:--|:--|:--|:-----------|\n",
    "|   P1         | 1 | 2 | 3 | 3 |  2.5 GHz   |\n",
    "|   P2         | 2 | 2 | 2 | 2 |  4.0 GHz   | \n",
    "|   IC         |1E5|2E5|5E5|2E5| \n"
   ]
  },
  {
   "cell_type": "markdown",
   "metadata": {},
   "source": [
    "__(a)__ Global CPI(GCPI) should be the total number of cycles over the total number of instructions. \n",
    "* For P1, \n",
    "$$GCPI = \\frac{10^5 \\times 1 + 2\\times 10^5 \\times 2 + 5 \\times 10^5 \\times 3 + 2 \\times 10^5 \\times 3}{10^6} = 2.6 $$ \n",
    "* For P2,\n",
    "$$GCPI = \\frac{10^5 \\times 2 + 2\\times 10^5 \\times 2 + 5 \\times 10^5 \\times 2 + 2 \\times 10^5 \\times 2}{10^6} = 2 $$"
   ]
  },
  {
   "cell_type": "markdown",
   "metadata": {},
   "source": [
    "__(b)__ total clock cycles would be the computed value from part (a) in the denominator: P1 has value: 2.6E6, and P2 has value 2E6."
   ]
  },
  {
   "cell_type": "code",
   "execution_count": null,
   "metadata": {
    "collapsed": true
   },
   "outputs": [],
   "source": []
  }
 ],
 "metadata": {
  "kernelspec": {
   "display_name": "Python [default]",
   "language": "python",
   "name": "python2"
  },
  "language_info": {
   "codemirror_mode": {
    "name": "ipython",
    "version": 2
   },
   "file_extension": ".py",
   "mimetype": "text/x-python",
   "name": "python",
   "nbconvert_exporter": "python",
   "pygments_lexer": "ipython2",
   "version": "2.7.13"
  }
 },
 "nbformat": 4,
 "nbformat_minor": 2
}

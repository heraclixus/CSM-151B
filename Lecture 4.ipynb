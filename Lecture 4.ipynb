{
 "cells": [
  {
   "cell_type": "markdown",
   "metadata": {},
   "source": [
    "# Lecture 4 ALU Design"
   ]
  },
  {
   "cell_type": "markdown",
   "metadata": {},
   "source": [
    "### Important Terms:\n",
    "* __Instruction Fetch__:  IF; fetch from memory \n",
    "* __Instruction Decode__: ID; figure out the instruction, from register\n",
    "* __Execution__: EX; ALU performs the job  \n",
    "* __Memory__: MEM ; data memory (storage)\n",
    "* __Write Back__: WB ; write back to register files\n",
    "\n",
    "Today look at the design of ALU, and the execution mechanism"
   ]
  },
  {
   "cell_type": "markdown",
   "metadata": {},
   "source": [
    "### Slide Note"
   ]
  },
  {
   "cell_type": "markdown",
   "metadata": {},
   "source": [
    "Arithmetic on Integers (Addition, subtraction, multiplication, division, overflow); floating-point real numbers (representation). <br>\n",
    "#### Integer Addition\n",
    "Addition:  Operand1 + operand2 + CarryIn -> Result + CarryOut <br>\n",
    "Overflow if out of range: \n",
    "* Adding +ve and -ve operands, no overflow \n",
    "* Adding +ve and +ve operands but get -ve (sign bit 1), overflow = 1\n",
    "* Adding -ve and -ve operands but get +ve (sign bit 0), overflow = 1 \n",
    "#### Integer Subtraction\n",
    "Subtraction is converted to addition: a-b is equivalent to a+(-b). <br>\n",
    "Overflow if out of range:\n",
    "* Subtracting two +ve or two -ve operands, no overflow \n",
    "* Subtracting +ve from -ve operand but get +ve (sign bit 0), overflow = 1 \n",
    "* Subtracting -ve from +ve operand but gets -ve (sign bit 1), overflow = 1\n",
    "#### Dealing with Overflow \n",
    "Some language (C) ignores overflow; Some language requires exception (i.e. save PC in exception program counter register, jump to predefined handler address, and finally return after correction action)."
   ]
  },
  {
   "cell_type": "markdown",
   "metadata": {},
   "source": [
    "![alu](alu.png)"
   ]
  },
  {
   "cell_type": "markdown",
   "metadata": {},
   "source": [
    "### One-Bit ALU \n",
    "1-bit operands performing AND, OR, and ADD <br>\n",
    "![1-bit](1-bit-alu.png)\n",
    "The 1-bit ALU has OR gate, AND gate, NOT gate, a multiplexer and a full adder. <br>\n",
    "First we look at the 1-bit full adder. \n",
    "![1-bit-add](1-bit-adder.png)\n"
   ]
  },
  {
   "cell_type": "markdown",
   "metadata": {},
   "source": [
    "Formula: (Ci as CarryIn, Co as carryout) \n",
    "```\n",
    "Co = (!a & b & Ci)|(a & !b & Ci)|(a & b & !Ci)|( a & b & Ci)\n",
    "Co = (b & Ci) | (a & Ci) | (a & b) \n",
    "```\n",
    "This is thus a 3 AND gate going to 3 OR gate"
   ]
  },
  {
   "cell_type": "markdown",
   "metadata": {},
   "source": [
    "### Ripple Carry ALU, 32-bit ALU\n",
    "![32](32-bit.png)\n",
    "The 32-bit ALU is constructed via 32 1-bit ALUs, each handling one digit and takes the carryout as the carry in value of the next ALU. "
   ]
  },
  {
   "cell_type": "markdown",
   "metadata": {},
   "source": [
    "Add Subtraction into the ALU: we need to add an invertor to the input and add 1.\n",
    "```\n",
    "a - b = a + (~b + 1) \n",
    "```\n",
    "![alu-sub](alu-sub.png) \n",
    "When subtraction is required, we need to also set carry in value of the the first ALU (ALU0) to 1, since this is 2's complement. "
   ]
  },
  {
   "cell_type": "markdown",
   "metadata": {},
   "source": [
    "#### Overflow Detection \n",
    "![over](overflow.png)\n",
    "For N-bit ALU, \n",
    "```\n",
    "Overflow = Ci[N-1] XOR Co[N-1] \n",
    "```\n",
    "check the ALU 31. (carry in of ALU 31 and carry out of ALU 31) and find the XOR, if XOR gives 1, overflow is detected. "
   ]
  },
  {
   "cell_type": "markdown",
   "metadata": {},
   "source": [
    "#### Zero Detection \n",
    "* Conditional Branches \n",
    "* NOR gate for all the bits). Any non-zero result will cause zero detection output to be zero. "
   ]
  },
  {
   "cell_type": "markdown",
   "metadata": {},
   "source": [
    "#### NOR \n",
    "        (~a & ~b)\n",
    "![NOR](nor.png)\n",
    "        "
   ]
  },
  {
   "cell_type": "markdown",
   "metadata": {},
   "source": [
    "### SLT implementation\n",
    "* SLT produces a 1 if rs < rt, and 0 otherwise.\n",
    "    * all but least significant bit will be 0\n",
    "    * how do we set the least significant bit?\n",
    "    * can we use subtraction? \n",
    "    * set the least significant bit to sign-bit of (rs-rt)\n",
    "* New input: LESS\n",
    "* New output: SET \n",
    "![slt](slt.png)\n",
    "![msb](msb.png)\n",
    "For all but the most significant ALU, we have the __less__ option that directly goes to the result. This means that if option 3 is picked from the MUX, then ALU will directly use the value of __less__. <br>\n",
    "For the most significant ALU, besides less, we have the __set__ output that directly feeds to output. This mostly is the sign bit of the computation. <br>\n",
    "This results in that the set output is 1 if the subtraction results in a < b, meaning that rs < rt. and it is zero if rs >= rt. So it fits the logic of slt. <br>\n",
    "Less input of ALU0 is connected to Set of ALU31. "
   ]
  },
  {
   "cell_type": "markdown",
   "metadata": {},
   "source": [
    "#### Final ALU\n",
    "![final](final-slu.png)"
   ]
  },
  {
   "cell_type": "markdown",
   "metadata": {},
   "source": [
    "## Lecture Note"
   ]
  },
  {
   "cell_type": "markdown",
   "metadata": {},
   "source": [
    "Logic of SLT only cares about the least significant bit of the result\n",
    "```\n",
    "if R[rs] < R[rt] \n",
    "    R[rd] = 000...01 \n",
    "else \n",
    "    R[rd] = 000...00 \n",
    "```\n",
    "* Logic of implementation: if rs < rt, then rs - rt < 0, and the sign-bit (most significant bit) is 1, else it is 0. This agrees with the conditional logic of SLT. The only problem is that we need the value to be on the LSB, but subtraction sets sign bit to MSB.<br> \n",
    "* Less input is hardwared to be zero for all the most significant bits. (when opcode 3 is chosen)<br>\n",
    "* The implementation of the most significant bit is different from all other ALUs. The Set output of the most significant bit is the most significant bit of the subtraction, it is then fed into the __less__ of the least significant bit. This effectively makes the LSB to be equal to the sign bit, thus achieving our goal. <br>\n",
    "* Since the subtraction is done before the Mux, we can always have the sign bit ready for all operations (this thus include our opcode 3, which is SLT). After the update from the LSB, the chain directly goes to the MUX."
   ]
  },
  {
   "cell_type": "markdown",
   "metadata": {},
   "source": [
    "#### Ripple Carry\n",
    "Carry out of one is fed into the carry in of the next. \n",
    "For an 1-bit adder: \n",
    "```\n",
    "Co = (A & B) | (A & Ci) | (B & Ci) \n",
    "S  = (A XOR B) XOR Ci\n",
    "```\n",
    "One layer of gate results in delay T. Overall delay is delay of the critical path <br>.\n",
    "One adder gives maximum 2T delay, since carry out takes 2T delay, then N ripple carry adder will result in 2NT delay <br>\n",
    "Need to make it better \n",
    "#### Carry Lookahead Adder \n",
    "More work is done, but in parallelism, so things can go faster. <br>\n",
    "for example, when an 1-bit adder has input as two 1s, then it definitely has a carry out (no need to wait for previous adders to generate carry). Similarly, two zeros as input will definitely make carry out as zero. These cases effectively break the adder chain.<br> \n",
    "To comply to these tricks, add a __Generator Detector__ (use And gate to detect two 1s)and a __P Detector__ for each adder(uses XOR to detect two). zeros)<br> \n",
    "![look-ahead](look-ahead.png)"
   ]
  },
  {
   "cell_type": "markdown",
   "metadata": {},
   "source": [
    "When A and B are not equal, in 'propagate' state, only way to have carry out is when carry in is one. <br> \n",
    "The long rectangle on the right does all the carry out calculation. ALl G,P calculations are done in parallel, and has no latency at all. \n",
    "* C4 is the carryout of the whole adder <br>. \n",
    "* C0 is the pre-determined carry in for the LSB\n",
    "* C1 is the carry in for the next least significant bit adder.\n",
    "* All G and P values are provided \n"
   ]
  }
 ],
 "metadata": {
  "kernelspec": {
   "display_name": "Python [default]",
   "language": "python",
   "name": "python2"
  },
  "language_info": {
   "codemirror_mode": {
    "name": "ipython",
    "version": 2
   },
   "file_extension": ".py",
   "mimetype": "text/x-python",
   "name": "python",
   "nbconvert_exporter": "python",
   "pygments_lexer": "ipython2",
   "version": "2.7.13"
  }
 },
 "nbformat": 4,
 "nbformat_minor": 2
}

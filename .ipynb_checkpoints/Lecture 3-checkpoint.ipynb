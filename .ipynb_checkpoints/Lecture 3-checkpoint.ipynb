{
 "cells": [
  {
   "cell_type": "markdown",
   "metadata": {},
   "source": [
    "# Lecture 3 "
   ]
  },
  {
   "cell_type": "markdown",
   "metadata": {},
   "source": [
    "* CPU instructions are stored in the memory\n",
    "* CPU access/load memory by address\n",
    "* Data comes from and into memory \n",
    "* More complex instructions save space in memory, but increases CPI (tradeoff in CPU)"
   ]
  },
  {
   "cell_type": "markdown",
   "metadata": {},
   "source": [
    "__Complex Instruction Set Computer__: \n",
    "* more instruction types in ISA, more complex (i.e. ADDTMULT as combination of MULT and ADD)\n",
    "* less instructions in memory \n",
    "__Reduced Instruction Set Computer__: less instruction types\n",
    "* Less instruction types in ISA\n",
    "* More instructions in memory \n",
    "More memory, and people begin to use RISC more and more <br> \n",
    "__CISC drawbacks__: More instruction types in ISA adds complexity to the hardware (since hardware has to implement the instructions). Cycle time could increase, or CPI would increase too. Validation and design time becomes harder for hardware too. It could also cost more for silicon design. "
   ]
  },
  {
   "cell_type": "markdown",
   "metadata": {},
   "source": [
    "_IF_: Instruction fetching, fetch instruction from memory to CPI <br>\n",
    "_ID_: Instruction Decoding, determine what the instruciton is <br> \n",
    "__Variable Length Instructions__: different bytes for different instructions. Tradeoff is that you could potentially save more space for instructinos that take less memory, but this adds complexity for instruction fetch and decoding.\n",
    "__Fixed Length Instructions__: Every instruction takes the same length. It is easier to fetch and decode, could take more memory (not a great issue in today's computer). "
   ]
  },
  {
   "cell_type": "markdown",
   "metadata": {},
   "source": [
    "Tradeoff in memory and CPU access: \n",
    "* Some ISA can access both, i.e. M+R => R (x86) (__Register Memory Machine__). This could take fewer instruction counts for one operation, but that could make machine more complex, and increased cycle time; could also increase CPI due to more complex instruction decoding. (quicker clock could also increase CPI)\n",
    "* RISC: ADD can only add registers, so first has to load from memory and store result to memory. (__Load and Store Architecture)__. This can take more instruction counts for one instruction. "
   ]
  },
  {
   "cell_type": "markdown",
   "metadata": {},
   "source": [
    "_APP, OS, COMPILER_ => CPI, IC <br>\n",
    "_ISA_ =>  IC, CPI, CT <br>\n",
    "_uArch_ => CT, CPI <br> \n"
   ]
  },
  {
   "cell_type": "markdown",
   "metadata": {},
   "source": [
    "__Rewind: x86__: \n",
    "\n",
    "* __Notation__: \n",
    "R[R6] means from register R6;\n",
    "I means immediate value from register. \n",
    "IMM : immediate values, comes from instruction itself \n",
    "ADDI : R[RT] = R[Rs] + IMM\n"
   ]
  },
  {
   "cell_type": "markdown",
   "metadata": {},
   "source": [
    "__MIPS__:\n",
    "* 32 Registers \n",
    "* 3 instruction types (_R, I, J_)\n",
    "* Fixed Length instruction (32 bits)"
   ]
  },
  {
   "cell_type": "markdown",
   "metadata": {},
   "source": [
    "![inst](inst.gif)"
   ]
  },
  {
   "cell_type": "markdown",
   "metadata": {},
   "source": [
    "__Syntax__:\n",
    "__R type__: \n",
    "![R](R.png)\n",
    "$$ R[rd] = R[rs] \\text{ funct } R[rt] $$\n",
    "__ADDI__: \n",
    "$$ R[rt] = R[rs] + SE(imm) $$"
   ]
  },
  {
   "cell_type": "markdown",
   "metadata": {},
   "source": [
    "I type: \n",
    "![I](I.jpg)\n",
    "__LW__: \n",
    "$$R[rt] = M[R[rs] + SE[imm] $$\n",
    "__SW__:\n",
    "$$M[R[rs] + SE[imm]] = R[rt]$$"
   ]
  },
  {
   "cell_type": "markdown",
   "metadata": {},
   "source": [
    "Memory in MIPS are at byte granularity. \n",
    "Program Counter (PC) are 32 bits, and load and store memory access has byte granularity, so the lower two bits are reserved to be zero. For 4 locations: 00, 01, 10, 11.  "
   ]
  },
  {
   "cell_type": "markdown",
   "metadata": {},
   "source": [
    "__BEQ__ (I type instruction):\n",
    "```\n",
    "if (R[rs] == R[rt])\n",
    "    //sign extended and shift left 2 bits, add 00\n",
    "    PC = PC + 4 + SES(I)  \n",
    "\n",
    "else \n",
    "    //do instruction\n",
    "    PC = PC + 4\n",
    "    \n",
    "``` "
   ]
  },
  {
   "cell_type": "markdown",
   "metadata": {
    "collapsed": true
   },
   "source": [
    "![isp](inst.gif)"
   ]
  },
  {
   "cell_type": "markdown",
   "metadata": {},
   "source": [
    "Example for __spilling__: In most register allocators, each variable is assigned to either a CPU register or to main memory. The advantage of using a register is speed. Computers have a limited number of registers, so not all variables can be assigned to registers. A __\"spilled variable\"__ is a variable in main memory rather than in a CPU register. The operation of moving a variable from a register to memory is called spilling, while the reverse operation of moving a variable from memory to a register is called __filling__. In high-level programming languages, it is possible that variable A is mot used often but B is, so after a modification of variable A (suppose it is stored in register r2), it will be saved into memory, and variable B(from memory) will be loaded into register r2.<br>\n",
    "\n",
    "#### CISC vs. RISC: \n",
    "* __More complex instruction vs. less complex instruction__: More complex instructions could impact CPI and CT. More complex operations could impact cycle time (make it longer, since more work in a single cycle). Or that more complex operations could impact CPI (since we need additional cycles for more to do). This could simplify instructions, and potentially reduce CT. It could be impactless in a multicycle scenario. <br>\n",
    "* __CPU vs. Memory__: Architecture design could have focus on memory or CPU, focusing much on memory would leave CPU to the compiler. \n",
    "\n",
    "#### Opcode Expansion \n",
    "if we have a new instruction and have to make opcode 7 bits:\n",
    "If for an I type instruction, the immidiate field would decrease by one bit. This makes Instruction Count increase (because Branch instruction now has to use a jump to access the whole memory region, and for arithemtic with immediate, we could need multiple operations, such as addi twice, or addi before the lw). Cycle time could increase due to more complex decoding. CPI is determined by application, compiler, and ISA all, it can be impacted but the direction is determined more in a more complex fashion.<br>\n",
    "\n",
    "__33 bit instruction__: \n",
    "One straightforward outcome would be difficulties in addressing. For performance, Since instructions take more memory than before, less can be hold in the instruction cache since the memory footprint is larger. Since there is Higher latency in memory for instructions, we could need more cycles to access an instruction, which could increase the CPI. <br>\n",
    "\n",
    "__Register File Size__: \n",
    "The straightforward motivation for increasing size would be to have less latency in memory (Since we don't need to if they are already in register space).\n",
    "Increase the size of register file could potentially decrease instruction count, we have less spilling in this case. Or it can increase the instruction count: \n",
    "* for example, in I type, we could increase the register files from 5 to 6 bits, but our opcode could be reduced, making us require more operations, so in this case, IC could increase. \n",
    "* Or, immediate value is reduced, and the previous problem will be encountered, CT will increase as a result.\n",
    "* CPI will drop if we can replace complex instructions by simple instructions (for example, we can have less load instructions, which take the most latency since it has to access memory). CPI could increase, since accessing register files now require more time (since they are larger register files). \n",
    "\n",
    "RISC is good for pipelining and parallelism <br>\n",
    "Simpler instructions can be pipelined better in one clock time. Compiler can see the smaller instructions first. i.e. a+b+c+d can be break into (a+b)+(c+d), and the operations in bracket can be done in parallel (or pipelined). <br>\n",
    "\n",
    "CISC (x86): \n",
    "8 registers in original x86, Instructions can directly access memory and has variable length. But they cannot do pipelining well. Decode: translation from instruction to micro ops, which are just like RISC instructions, and get benefit of RISC. (but more complex decode). Also, 2-address code vs. 3-address code.<cr> \n",
    "\n",
    "ARM (RISC): variable length and macro op fusion (make bigger instructions) and gets benefit from CISC.\n",
    "* A big bonus is Instruction Cache Compactness, could help reduce CPI (from spilling, since less access to memory)\n",
    "* Macro op Fusion does not change CT, but it could reduce CPI, since instructions can flow through faster. \n",
    "* Two-address code vs. Three-address code (x+=y  vs. x = y+z): \n",
    "    * Two address code needs only three registers, but three address code needs three reigsters. Three address code could take more instructions \n",
    "    * But two address code does not preverse value, whereas three address code preserves input. \n",
    "* x86 architecture always uses 2-address code, but it could contradict with what programmers want: they want to preserve values. \n",
    "* Variable length overall has drawback of decoding complexity. Decoder has to handle more complex components of instructions. \n",
    "\n",
    "More on Jump: How to jump backward?\n",
    "PC+4's 4 most significant bit, lower two bits are zero. jump backward if the replacement value (the middle 26 bits, together with the 4 most significant and the two least significant bit) is less than the previous value. LW can go backward due to the sign extension, the same for BEQ. "
   ]
  },
  {
   "cell_type": "markdown",
   "metadata": {
    "collapsed": true
   },
   "source": [
    "#### Jal Instruction \n",
    "The register used for linkage is register \\$31, or \\$ra by extended assembler. It holds the return address for a subroutine. The instruction that puts the return address into \\$ra is usually the jal instruction.\n",
    "```\n",
    "jal sub:\n",
    "        \\$ra <- PC + 4   (the address is 8 bytes away from jal) \n",
    "        PC <- sub       (load PC with subroutine entry point) \n",
    "        (Then there is a branch delay)\n",
    "```\n",
    "The middle step of the machine cycle has already incremented the PC by four. At this point the PC holds the address of the instruction just after the jal instruction. Now the execute phase of the jal instruction adds four to that address and puts the result in \\$ra. So now $ra holds the address of the second instruction after the jal instruction.\n",
    "The correct return address is \"address of the jal plus eight\". This is because: (i) returning from the subroutine to the jal instruction would be a disaster (since it would execute again, sending control back to the subroutine), and (ii) the instruction following the jal is a branch delay slot. \n",
    "* Example: suppose that jal is at address 0x00400014, and sub is at address 0x00400100. Then:\n",
    "    * Fetch: when jal is fetched, PC is at 0x00400014.\n",
    "    * Increment: PC increment to 0x400018 (here is the branch delay, which is normally NOP)\n",
    "    * Execute: first, register rc stores the value of PC + 4 = 0x004001C. Then, PC points to 0x00400100"
   ]
  },
  {
   "cell_type": "markdown",
   "metadata": {},
   "source": [
    "#### Jr Instruction\n",
    "Return from the subroutine to caller is done with the jr instruction, which returns control to the caller and copies content of ra register into PC. \n",
    "```\n",
    "jr \\$ra:\n",
    "            PC <- \\$ra \n",
    "            (a branch delay)\n",
    "            (slot follows this instruction)\n",
    "```\n",
    "This normally jumps back to the \\$ra value stored by the previous jal instruction. This is like the return address in the x86 stack frame. "
   ]
  }
 ],
 "metadata": {
  "kernelspec": {
   "display_name": "Python [default]",
   "language": "python",
   "name": "python2"
  },
  "language_info": {
   "codemirror_mode": {
    "name": "ipython",
    "version": 2
   },
   "file_extension": ".py",
   "mimetype": "text/x-python",
   "name": "python",
   "nbconvert_exporter": "python",
   "pygments_lexer": "ipython2",
   "version": "2.7.13"
  }
 },
 "nbformat": 4,
 "nbformat_minor": 2
}
